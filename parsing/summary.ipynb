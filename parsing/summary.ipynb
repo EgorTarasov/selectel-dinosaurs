{
 "cells": [
  {
   "cell_type": "code",
   "execution_count": 5,
   "metadata": {},
   "outputs": [],
   "source": [
    "import json\n",
    "\n",
    "with open(\"vk_posts.json\", \"r\") as f:\n",
    "    data = json.load(f)"
   ]
  },
  {
   "cell_type": "code",
   "execution_count": 7,
   "metadata": {},
   "outputs": [],
   "source": [
    "test_data = data[0]"
   ]
  },
  {
   "cell_type": "code",
   "execution_count": 28,
   "metadata": {},
   "outputs": [],
   "source": [
    "import typing as tp\n",
    "import datetime as dt\n",
    "\n",
    "class Post(tp.TypedDict):\n",
    "    id: int\n",
    "    date: dt.datetime\n",
    "    text: str\n",
    "    likes: int\n",
    "    image: str\n",
    "\n",
    "\n",
    "def preprocess(group_id:int,payload: dict[str, tp.Any]):\n",
    "    # get date\n",
    "    date = dt.datetime.fromtimestamp(payload[\"date\"])\n",
    "    # get text\n",
    "    text = payload[\"text\"]\n",
    "    # get image\n",
    "    image_urls = []\n",
    "    for attachment in payload.get(\"attachments\", []):\n",
    "        if attachment[\"type\"] == \"photo\":\n",
    "\n",
    "            image_urls.append(attachment[\"photo\"][\"sizes\"][-1][\"url\"])\n",
    "    return {\n",
    "        \"id\": payload[\"id\"],\n",
    "        \"url\": f\"https://vk.com/wall-{group_id}_{payload['id']}\",\n",
    "        \"date\": date.isoformat(),\n",
    "        \"text\": text,\n",
    "        \"image\": image_urls,\n",
    "    }"
   ]
  },
  {
   "cell_type": "code",
   "execution_count": 21,
   "metadata": {},
   "outputs": [
    {
     "name": "stdout",
     "output_type": "stream",
     "text": [
      "{'id': 6237, 'date': 1708609531, 'type': 'post', 'inner_type': 'wall_wallpost', 'text': '[id3700403|Ольга Чуб]\\n\\nСанкт-Петербург \\n\\nСрочно нужен донор крови для собаки. Прооперирована после заворотка желудка. Сейчас падает альбумин и гематокрит.\\nКровь DEA 1-\\n\\n1. г.Санкт Петербург \\n2. Вес собаки 22 кг., ВЕО\\n3. Необходимый объем 400-500 мл, вес донора от 30-35кг \\n4. Резус -\\n5. Клиника Прайд, Ленинский пр., 98\\n6. Диагноз : После операции падает альбумин и гематокрит\\n7. Анализы крови - есть свежие\\n8. Пациент: ВЕО Дина\\n10. Животное имеет владельца (Игнатьева Галина)\\n\\nПомогу привезти, отвезти. Если нужно оплатим расходы. \\nМой номер +7(921)960-98-33 Ольга (помогаю информационно)\\nНомер хозяйки +7(905)222-01-12 Галина\\nСсылка на мою страницу https://vk.com/olga_chub\\n\\n_________________________________________\\n#Спб\\xa0#нужендонор_pet_donor #нужендонорсобаке\\xa0 #НуженДонорсобаке@pet_donor \\nБаза данных животных-доноров | Животные-доноры \\nЕсли вы готовы помочь и ваши питомцы могут стать БЕЗВОЗМЕЗДНЫМ донором, внесите свои данные и данные своего питомца в базу', 'attachments': [{'type': 'photo', 'photo': {'album_id': -7, 'date': 1708609531, 'id': 457242819, 'owner_id': -5143546, 'access_key': '5b63db9d2c00698a4c', 'sizes': [{'height': 56, 'type': 's', 'width': 75, 'url': 'https://sun9-24.vkuserphoto.ru/impg/Sp6ZLHBQ063IhVRSpx9ZWXdhUsUUpou55YKY9Q/faXaWSh-HIk.jpg?size=75x56&quality=95&sign=2f0572b84ec2fcee5666582027f64a1f&c_uniq_tag=i-U94WoUp03DLBiV8JjCgsDe8aPPmIgntlX-ftyjnW8&type=album'}, {'height': 97, 'type': 'm', 'width': 130, 'url': 'https://sun9-24.vkuserphoto.ru/impg/Sp6ZLHBQ063IhVRSpx9ZWXdhUsUUpou55YKY9Q/faXaWSh-HIk.jpg?size=130x97&quality=95&sign=0752fe3c796f24ae2054c5aa548c783b&c_uniq_tag=0wzVJtEVymIS0sFoJpGSZlbOQGWBC5ObdAE9KvV_A9k&type=album'}, {'height': 300, 'type': 'x', 'width': 400, 'url': 'https://sun9-24.vkuserphoto.ru/impg/Sp6ZLHBQ063IhVRSpx9ZWXdhUsUUpou55YKY9Q/faXaWSh-HIk.jpg?size=400x300&quality=95&sign=2a00b96f7b09f828b3416bd066692145&c_uniq_tag=53sqhmktiOL-6zAybuzFbjjyCUcrPgWchP-tTx78iUI&type=album'}, {'height': 97, 'type': 'o', 'width': 130, 'url': 'https://sun9-24.vkuserphoto.ru/impg/Sp6ZLHBQ063IhVRSpx9ZWXdhUsUUpou55YKY9Q/faXaWSh-HIk.jpg?size=130x97&quality=95&sign=0752fe3c796f24ae2054c5aa548c783b&c_uniq_tag=0wzVJtEVymIS0sFoJpGSZlbOQGWBC5ObdAE9KvV_A9k&type=album'}, {'height': 150, 'type': 'p', 'width': 200, 'url': 'https://sun9-24.vkuserphoto.ru/impg/Sp6ZLHBQ063IhVRSpx9ZWXdhUsUUpou55YKY9Q/faXaWSh-HIk.jpg?size=200x150&quality=95&sign=f5638a223241ab5dafc2945eaa43d53d&c_uniq_tag=z6Q69bEP44PSKnzc_MVlF5HV5olp8kFPp852REF5szk&type=album'}, {'height': 240, 'type': 'q', 'width': 320, 'url': 'https://sun9-24.vkuserphoto.ru/impg/Sp6ZLHBQ063IhVRSpx9ZWXdhUsUUpou55YKY9Q/faXaWSh-HIk.jpg?size=320x240&quality=95&sign=4ec0d985909bbeae96c0813306a4dbe5&c_uniq_tag=ppnyPb6DNd_ZVSS794IqatSovDaD7BXS5whcwBc-98w&type=album'}, {'height': 300, 'type': 'r', 'width': 400, 'url': 'https://sun9-24.vkuserphoto.ru/impg/Sp6ZLHBQ063IhVRSpx9ZWXdhUsUUpou55YKY9Q/faXaWSh-HIk.jpg?size=400x300&quality=95&sign=2a00b96f7b09f828b3416bd066692145&c_uniq_tag=53sqhmktiOL-6zAybuzFbjjyCUcrPgWchP-tTx78iUI&type=album'}], 'text': '', 'user_id': 100, 'web_view_token': 'e5d1c85b9bc71ca0a9', 'has_tags': False}}, {'type': 'photo', 'photo': {'album_id': -7, 'date': 1708609531, 'id': 457242820, 'owner_id': -5143546, 'access_key': '57e160ca56e5b41e23', 'sizes': [{'height': 59, 'type': 's', 'width': 75, 'url': 'https://sun9-40.vkuserphoto.ru/impg/F5eCO8JYZtPoebxPnFU_BBmxS2vdVxKoNP4O5w/PN2U2RU7tb8.jpg?size=75x59&quality=95&sign=5aa23de805f2265b6fd2e7cb98893abb&c_uniq_tag=PWQUSg3fQ9LgBxVX-WSaRWFGCJEkxkdKoGVlqO2WB4o&type=album'}, {'height': 103, 'type': 'm', 'width': 130, 'url': 'https://sun9-40.vkuserphoto.ru/impg/F5eCO8JYZtPoebxPnFU_BBmxS2vdVxKoNP4O5w/PN2U2RU7tb8.jpg?size=130x103&quality=95&sign=1adb548419a0a6357a88f2cc94c8b46f&c_uniq_tag=CGhujF-QuZGdmi2ZyLRUKMXgSRop-iqlzpz_0as49-Y&type=album'}, {'height': 478, 'type': 'x', 'width': 604, 'url': 'https://sun9-40.vkuserphoto.ru/impg/F5eCO8JYZtPoebxPnFU_BBmxS2vdVxKoNP4O5w/PN2U2RU7tb8.jpg?size=604x478&quality=95&sign=814b6a24f587b5ebaf0135a28ef7b9e3&c_uniq_tag=wEUn6XErNxH8KPXaLMhu7WnKkHhTSF4ddoedmWEFs58&type=album'}, {'height': 491, 'type': 'y', 'width': 621, 'url': 'https://sun9-40.vkuserphoto.ru/impg/F5eCO8JYZtPoebxPnFU_BBmxS2vdVxKoNP4O5w/PN2U2RU7tb8.jpg?size=621x491&quality=95&sign=e7d06f786b3185681ff682acf7cdb8aa&c_uniq_tag=LAf89eukCbNEw4AhHxhtadVKxBZ1oRA1aLcD0DGEDTU&type=album'}, {'height': 103, 'type': 'o', 'width': 130, 'url': 'https://sun9-40.vkuserphoto.ru/impg/F5eCO8JYZtPoebxPnFU_BBmxS2vdVxKoNP4O5w/PN2U2RU7tb8.jpg?size=130x103&quality=95&sign=1adb548419a0a6357a88f2cc94c8b46f&c_uniq_tag=CGhujF-QuZGdmi2ZyLRUKMXgSRop-iqlzpz_0as49-Y&type=album'}, {'height': 158, 'type': 'p', 'width': 200, 'url': 'https://sun9-40.vkuserphoto.ru/impg/F5eCO8JYZtPoebxPnFU_BBmxS2vdVxKoNP4O5w/PN2U2RU7tb8.jpg?size=200x158&quality=95&sign=4d9e2692106ffe02f39ac6dde6d47de0&c_uniq_tag=HnN-ViONOYkzGocmJA64oY86jXRiYZeT8qumL7TZ2lk&type=album'}, {'height': 253, 'type': 'q', 'width': 320, 'url': 'https://sun9-40.vkuserphoto.ru/impg/F5eCO8JYZtPoebxPnFU_BBmxS2vdVxKoNP4O5w/PN2U2RU7tb8.jpg?size=320x253&quality=95&sign=74ef028d351ca108803694c4a36cab93&c_uniq_tag=MNvVvqATqvSNGGbF0bPFCGa6v432A_zbEwANrbP1K6s&type=album'}, {'height': 403, 'type': 'r', 'width': 510, 'url': 'https://sun9-40.vkuserphoto.ru/impg/F5eCO8JYZtPoebxPnFU_BBmxS2vdVxKoNP4O5w/PN2U2RU7tb8.jpg?size=510x403&quality=95&sign=6af24342a7ee367fb1703d1434cc0e53&c_uniq_tag=R7xJYDACd_2fvbyxbOzEOhRl0652UZRHVNVI8EC_p30&type=album'}], 'text': '', 'user_id': 100, 'web_view_token': '02f262aa67757e0bac', 'has_tags': False}}, {'type': 'link', 'link': {'url': 'https://vk.com/olga_chub', 'description': '', 'is_favorite': False, 'title': '', 'target': 'internal'}}]}\n"
     ]
    }
   ],
   "source": [
    "print(data[0])"
   ]
  },
  {
   "cell_type": "code",
   "execution_count": null,
   "metadata": {},
   "outputs": [],
   "source": [
    "https://vk.com/wall-135775913_150527"
   ]
  },
  {
   "cell_type": "code",
   "execution_count": 29,
   "metadata": {},
   "outputs": [
    {
     "data": {
      "text/plain": [
       "{'id': 6237,\n",
       " 'url': 'https://vk.com/wall-5143546_6237',\n",
       " 'date': '2024-02-22T16:45:31',\n",
       " 'text': '[id3700403|Ольга Чуб]\\n\\nСанкт-Петербург \\n\\nСрочно нужен донор крови для собаки. Прооперирована после заворотка желудка. Сейчас падает альбумин и гематокрит.\\nКровь DEA 1-\\n\\n1. г.Санкт Петербург \\n2. Вес собаки 22 кг., ВЕО\\n3. Необходимый объем 400-500 мл, вес донора от 30-35кг \\n4. Резус -\\n5. Клиника Прайд, Ленинский пр., 98\\n6. Диагноз : После операции падает альбумин и гематокрит\\n7. Анализы крови - есть свежие\\n8. Пациент: ВЕО Дина\\n10. Животное имеет владельца (Игнатьева Галина)\\n\\nПомогу привезти, отвезти. Если нужно оплатим расходы. \\nМой номер +7(921)960-98-33 Ольга (помогаю информационно)\\nНомер хозяйки +7(905)222-01-12 Галина\\nСсылка на мою страницу https://vk.com/olga_chub\\n\\n_________________________________________\\n#Спб\\xa0#нужендонор_pet_donor #нужендонорсобаке\\xa0 #НуженДонорсобаке@pet_donor \\nБаза данных животных-доноров | Животные-доноры \\nЕсли вы готовы помочь и ваши питомцы могут стать БЕЗВОЗМЕЗДНЫМ донором, внесите свои данные и данные своего питомца в базу',\n",
       " 'image': ['https://sun9-24.vkuserphoto.ru/impg/Sp6ZLHBQ063IhVRSpx9ZWXdhUsUUpou55YKY9Q/faXaWSh-HIk.jpg?size=400x300&quality=95&sign=2a00b96f7b09f828b3416bd066692145&c_uniq_tag=53sqhmktiOL-6zAybuzFbjjyCUcrPgWchP-tTx78iUI&type=album',\n",
       "  'https://sun9-40.vkuserphoto.ru/impg/F5eCO8JYZtPoebxPnFU_BBmxS2vdVxKoNP4O5w/PN2U2RU7tb8.jpg?size=510x403&quality=95&sign=6af24342a7ee367fb1703d1434cc0e53&c_uniq_tag=R7xJYDACd_2fvbyxbOzEOhRl0652UZRHVNVI8EC_p30&type=album']}"
      ]
     },
     "execution_count": 29,
     "metadata": {},
     "output_type": "execute_result"
    }
   ],
   "source": [
    "prep = preprocess(5143546, data[0])\n",
    "prep"
   ]
  },
  {
   "cell_type": "code",
   "execution_count": 31,
   "metadata": {},
   "outputs": [],
   "source": [
    "group_id = 5143546\n",
    "processed = [preprocess(group_id, post) for post in data]\n",
    "\n",
    "with open(f\"vk_posts_preprocessed_{group_id}.json\", \"w\") as f:\n",
    "    json.dump(processed, f, ensure_ascii=False, indent=4)"
   ]
  },
  {
   "cell_type": "code",
   "execution_count": 67,
   "metadata": {},
   "outputs": [],
   "source": [
    "from langchain.llms import Ollama\n",
    "\n",
    "ollama = Ollama(base_url=\"http://192.168.1.70:11434\", model=\"llama2\")\n",
    "\n",
    "prompt = \"language: Russian question: Cократи текст до 30 слов, не выводи, что сократил текст и выдели тип животного в тексте, это может быть либо кошка, либо собака, вот текст:  \""
   ]
  },
  {
   "cell_type": "code",
   "execution_count": 70,
   "metadata": {},
   "outputs": [
    {
     "name": "stdout",
     "output_type": "stream",
     "text": [
      "list index out of range\n",
      "Санкт-Петербург ищем донора крови. Необходимо 130 мл цельной крови группы А. Наша кошка ХПН имеет анемию, поэтому переливание крови планируется в клинике Два сердца. Надеюсь, что донор найдет! Все расходы берём на себя. Марина +79214022595, Дмитрий +79112083428. #Спб #нужендонор_pet_donor #нужендоноркошке #НуженДоноркошке@pet_donor\n",
      "6121\n",
      "[id1461732|Лора Калинина]\n",
      "\n",
      "Санкт-Петербург \n",
      "\n",
      "Ищем донора крови. \n",
      "Необходимо 130 мл цельной крови группы А.\n",
      "У нашей кошки ХПН, на фоне которой развилась анемия. \n",
      "Переливание крови планируется в клинике Два сердца, по адресу: Львовская 10. В банках пусто, поэтому надеюсь, что донор найдётся! \n",
      "Все расходы берём на себя\n",
      "\n",
      "Марина +79214022595\n",
      "Дмитрий +79112083428\n",
      "\n",
      "_________________________________________\n",
      "#Спб #нужендонор_pet_donor #нужендоноркошке  #НуженДоноркошке@pet_donor \n",
      "База данных животных-доноров | Животные-доноры \n",
      "Если вы готовы помочь и ваши питомцы могут стать БЕЗВОЗМЕЗДНЫМ донором, внесите свои данные и данные своего питомца в базу\n",
      "['https://sun9-44.vkuserphoto.ru/impg/k3vsL54rLdC8qGuh_Kb2WfLstd4gVC1tDs1SDg/KZ1tRgeLo24.jpg?size=400x300&quality=95&sign=7e085559eee91a0c21c254ba63e7b6f3&c_uniq_tag=veCPYXCaId0uzCsHUPq9X1sAqDfPWTGUpEWBnylE1TY&type=album', 'https://sun9-22.vkuserphoto.ru/impg/6NmvQEV1BaHXYUBKyAbeFIbE34HV-rXVXCbgAw/H_7HLuPKq88.jpg?size=510x412&quality=95&sign=de84869df77625414bb307644293fb22&c_uniq_tag=71DOClX3b4WV9x4_M9NZxBdnriLwM1ykMjFv1bUWfyA&type=album']\n",
      "https://vk.com/wall-5143546_6121\n",
      "2023-12-26T17:19:12\n",
      "----\n"
     ]
    },
    {
     "ename": "KeyboardInterrupt",
     "evalue": "",
     "output_type": "error",
     "traceback": [
      "\u001b[0;31m---------------------------------------------------------------------------\u001b[0m",
      "\u001b[0;31mKeyboardInterrupt\u001b[0m                         Traceback (most recent call last)",
      "Cell \u001b[0;32mIn[70], line 3\u001b[0m\n\u001b[1;32m      1\u001b[0m \u001b[38;5;28;01mfor\u001b[39;00m post \u001b[38;5;129;01min\u001b[39;00m processed[:\u001b[38;5;241m100\u001b[39m]:\n\u001b[1;32m      2\u001b[0m     text \u001b[38;5;241m=\u001b[39m post[\u001b[38;5;124m\"\u001b[39m\u001b[38;5;124mtext\u001b[39m\u001b[38;5;124m\"\u001b[39m]\n\u001b[0;32m----> 3\u001b[0m     summary \u001b[38;5;241m=\u001b[39m \u001b[43mollama\u001b[49m\u001b[43m(\u001b[49m\u001b[43mprompt\u001b[49m\u001b[43m \u001b[49m\u001b[38;5;241;43m+\u001b[39;49m\u001b[43m \u001b[49m\u001b[43mtext\u001b[49m\u001b[43m)\u001b[49m\n\u001b[1;32m      4\u001b[0m     \u001b[38;5;28;01mwith\u001b[39;00m \u001b[38;5;28mopen\u001b[39m(\u001b[38;5;124mf\u001b[39m\u001b[38;5;124m\"\u001b[39m\u001b[38;5;124mposts/\u001b[39m\u001b[38;5;132;01m{\u001b[39;00mpost[\u001b[38;5;124m'\u001b[39m\u001b[38;5;124mid\u001b[39m\u001b[38;5;124m'\u001b[39m]\u001b[38;5;132;01m}\u001b[39;00m\u001b[38;5;124m.json\u001b[39m\u001b[38;5;124m\"\u001b[39m, \u001b[38;5;124m\"\u001b[39m\u001b[38;5;124mw\u001b[39m\u001b[38;5;124m\"\u001b[39m) \u001b[38;5;28;01mas\u001b[39;00m f:\n\u001b[1;32m      5\u001b[0m         \u001b[38;5;28;01mtry\u001b[39;00m:\n",
      "File \u001b[0;32m~/uni/Хакатоны/selectel-dinosaurs/venv/lib/python3.11/site-packages/langchain_core/_api/deprecation.py:145\u001b[0m, in \u001b[0;36mdeprecated.<locals>.deprecate.<locals>.warning_emitting_wrapper\u001b[0;34m(*args, **kwargs)\u001b[0m\n\u001b[1;32m    143\u001b[0m     warned \u001b[38;5;241m=\u001b[39m \u001b[38;5;28;01mTrue\u001b[39;00m\n\u001b[1;32m    144\u001b[0m     emit_warning()\n\u001b[0;32m--> 145\u001b[0m \u001b[38;5;28;01mreturn\u001b[39;00m \u001b[43mwrapped\u001b[49m\u001b[43m(\u001b[49m\u001b[38;5;241;43m*\u001b[39;49m\u001b[43margs\u001b[49m\u001b[43m,\u001b[49m\u001b[43m \u001b[49m\u001b[38;5;241;43m*\u001b[39;49m\u001b[38;5;241;43m*\u001b[39;49m\u001b[43mkwargs\u001b[49m\u001b[43m)\u001b[49m\n",
      "File \u001b[0;32m~/uni/Хакатоны/selectel-dinosaurs/venv/lib/python3.11/site-packages/langchain_core/language_models/llms.py:991\u001b[0m, in \u001b[0;36mBaseLLM.__call__\u001b[0;34m(self, prompt, stop, callbacks, tags, metadata, **kwargs)\u001b[0m\n\u001b[1;32m    984\u001b[0m \u001b[38;5;28;01mif\u001b[39;00m \u001b[38;5;129;01mnot\u001b[39;00m \u001b[38;5;28misinstance\u001b[39m(prompt, \u001b[38;5;28mstr\u001b[39m):\n\u001b[1;32m    985\u001b[0m     \u001b[38;5;28;01mraise\u001b[39;00m \u001b[38;5;167;01mValueError\u001b[39;00m(\n\u001b[1;32m    986\u001b[0m         \u001b[38;5;124m\"\u001b[39m\u001b[38;5;124mArgument `prompt` is expected to be a string. Instead found \u001b[39m\u001b[38;5;124m\"\u001b[39m\n\u001b[1;32m    987\u001b[0m         \u001b[38;5;124mf\u001b[39m\u001b[38;5;124m\"\u001b[39m\u001b[38;5;132;01m{\u001b[39;00m\u001b[38;5;28mtype\u001b[39m(prompt)\u001b[38;5;132;01m}\u001b[39;00m\u001b[38;5;124m. If you want to run the LLM on multiple prompts, use \u001b[39m\u001b[38;5;124m\"\u001b[39m\n\u001b[1;32m    988\u001b[0m         \u001b[38;5;124m\"\u001b[39m\u001b[38;5;124m`generate` instead.\u001b[39m\u001b[38;5;124m\"\u001b[39m\n\u001b[1;32m    989\u001b[0m     )\n\u001b[1;32m    990\u001b[0m \u001b[38;5;28;01mreturn\u001b[39;00m (\n\u001b[0;32m--> 991\u001b[0m     \u001b[38;5;28;43mself\u001b[39;49m\u001b[38;5;241;43m.\u001b[39;49m\u001b[43mgenerate\u001b[49m\u001b[43m(\u001b[49m\n\u001b[1;32m    992\u001b[0m \u001b[43m        \u001b[49m\u001b[43m[\u001b[49m\u001b[43mprompt\u001b[49m\u001b[43m]\u001b[49m\u001b[43m,\u001b[49m\n\u001b[1;32m    993\u001b[0m \u001b[43m        \u001b[49m\u001b[43mstop\u001b[49m\u001b[38;5;241;43m=\u001b[39;49m\u001b[43mstop\u001b[49m\u001b[43m,\u001b[49m\n\u001b[1;32m    994\u001b[0m \u001b[43m        \u001b[49m\u001b[43mcallbacks\u001b[49m\u001b[38;5;241;43m=\u001b[39;49m\u001b[43mcallbacks\u001b[49m\u001b[43m,\u001b[49m\n\u001b[1;32m    995\u001b[0m \u001b[43m        \u001b[49m\u001b[43mtags\u001b[49m\u001b[38;5;241;43m=\u001b[39;49m\u001b[43mtags\u001b[49m\u001b[43m,\u001b[49m\n\u001b[1;32m    996\u001b[0m \u001b[43m        \u001b[49m\u001b[43mmetadata\u001b[49m\u001b[38;5;241;43m=\u001b[39;49m\u001b[43mmetadata\u001b[49m\u001b[43m,\u001b[49m\n\u001b[1;32m    997\u001b[0m \u001b[43m        \u001b[49m\u001b[38;5;241;43m*\u001b[39;49m\u001b[38;5;241;43m*\u001b[39;49m\u001b[43mkwargs\u001b[49m\u001b[43m,\u001b[49m\n\u001b[1;32m    998\u001b[0m \u001b[43m    \u001b[49m\u001b[43m)\u001b[49m\n\u001b[1;32m    999\u001b[0m     \u001b[38;5;241m.\u001b[39mgenerations[\u001b[38;5;241m0\u001b[39m][\u001b[38;5;241m0\u001b[39m]\n\u001b[1;32m   1000\u001b[0m     \u001b[38;5;241m.\u001b[39mtext\n\u001b[1;32m   1001\u001b[0m )\n",
      "File \u001b[0;32m~/uni/Хакатоны/selectel-dinosaurs/venv/lib/python3.11/site-packages/langchain_core/language_models/llms.py:741\u001b[0m, in \u001b[0;36mBaseLLM.generate\u001b[0;34m(self, prompts, stop, callbacks, tags, metadata, run_name, **kwargs)\u001b[0m\n\u001b[1;32m    725\u001b[0m         \u001b[38;5;28;01mraise\u001b[39;00m \u001b[38;5;167;01mValueError\u001b[39;00m(\n\u001b[1;32m    726\u001b[0m             \u001b[38;5;124m\"\u001b[39m\u001b[38;5;124mAsked to cache, but no cache found at `langchain.cache`.\u001b[39m\u001b[38;5;124m\"\u001b[39m\n\u001b[1;32m    727\u001b[0m         )\n\u001b[1;32m    728\u001b[0m     run_managers \u001b[38;5;241m=\u001b[39m [\n\u001b[1;32m    729\u001b[0m         callback_manager\u001b[38;5;241m.\u001b[39mon_llm_start(\n\u001b[1;32m    730\u001b[0m             dumpd(\u001b[38;5;28mself\u001b[39m),\n\u001b[0;32m   (...)\u001b[0m\n\u001b[1;32m    739\u001b[0m         )\n\u001b[1;32m    740\u001b[0m     ]\n\u001b[0;32m--> 741\u001b[0m     output \u001b[38;5;241m=\u001b[39m \u001b[38;5;28;43mself\u001b[39;49m\u001b[38;5;241;43m.\u001b[39;49m\u001b[43m_generate_helper\u001b[49m\u001b[43m(\u001b[49m\n\u001b[1;32m    742\u001b[0m \u001b[43m        \u001b[49m\u001b[43mprompts\u001b[49m\u001b[43m,\u001b[49m\u001b[43m \u001b[49m\u001b[43mstop\u001b[49m\u001b[43m,\u001b[49m\u001b[43m \u001b[49m\u001b[43mrun_managers\u001b[49m\u001b[43m,\u001b[49m\u001b[43m \u001b[49m\u001b[38;5;28;43mbool\u001b[39;49m\u001b[43m(\u001b[49m\u001b[43mnew_arg_supported\u001b[49m\u001b[43m)\u001b[49m\u001b[43m,\u001b[49m\u001b[43m \u001b[49m\u001b[38;5;241;43m*\u001b[39;49m\u001b[38;5;241;43m*\u001b[39;49m\u001b[43mkwargs\u001b[49m\n\u001b[1;32m    743\u001b[0m \u001b[43m    \u001b[49m\u001b[43m)\u001b[49m\n\u001b[1;32m    744\u001b[0m     \u001b[38;5;28;01mreturn\u001b[39;00m output\n\u001b[1;32m    745\u001b[0m \u001b[38;5;28;01mif\u001b[39;00m \u001b[38;5;28mlen\u001b[39m(missing_prompts) \u001b[38;5;241m>\u001b[39m \u001b[38;5;241m0\u001b[39m:\n",
      "File \u001b[0;32m~/uni/Хакатоны/selectel-dinosaurs/venv/lib/python3.11/site-packages/langchain_core/language_models/llms.py:605\u001b[0m, in \u001b[0;36mBaseLLM._generate_helper\u001b[0;34m(self, prompts, stop, run_managers, new_arg_supported, **kwargs)\u001b[0m\n\u001b[1;32m    603\u001b[0m     \u001b[38;5;28;01mfor\u001b[39;00m run_manager \u001b[38;5;129;01min\u001b[39;00m run_managers:\n\u001b[1;32m    604\u001b[0m         run_manager\u001b[38;5;241m.\u001b[39mon_llm_error(e, response\u001b[38;5;241m=\u001b[39mLLMResult(generations\u001b[38;5;241m=\u001b[39m[]))\n\u001b[0;32m--> 605\u001b[0m     \u001b[38;5;28;01mraise\u001b[39;00m e\n\u001b[1;32m    606\u001b[0m flattened_outputs \u001b[38;5;241m=\u001b[39m output\u001b[38;5;241m.\u001b[39mflatten()\n\u001b[1;32m    607\u001b[0m \u001b[38;5;28;01mfor\u001b[39;00m manager, flattened_output \u001b[38;5;129;01min\u001b[39;00m \u001b[38;5;28mzip\u001b[39m(run_managers, flattened_outputs):\n",
      "File \u001b[0;32m~/uni/Хакатоны/selectel-dinosaurs/venv/lib/python3.11/site-packages/langchain_core/language_models/llms.py:592\u001b[0m, in \u001b[0;36mBaseLLM._generate_helper\u001b[0;34m(self, prompts, stop, run_managers, new_arg_supported, **kwargs)\u001b[0m\n\u001b[1;32m    582\u001b[0m \u001b[38;5;28;01mdef\u001b[39;00m \u001b[38;5;21m_generate_helper\u001b[39m(\n\u001b[1;32m    583\u001b[0m     \u001b[38;5;28mself\u001b[39m,\n\u001b[1;32m    584\u001b[0m     prompts: List[\u001b[38;5;28mstr\u001b[39m],\n\u001b[0;32m   (...)\u001b[0m\n\u001b[1;32m    588\u001b[0m     \u001b[38;5;241m*\u001b[39m\u001b[38;5;241m*\u001b[39mkwargs: Any,\n\u001b[1;32m    589\u001b[0m ) \u001b[38;5;241m-\u001b[39m\u001b[38;5;241m>\u001b[39m LLMResult:\n\u001b[1;32m    590\u001b[0m     \u001b[38;5;28;01mtry\u001b[39;00m:\n\u001b[1;32m    591\u001b[0m         output \u001b[38;5;241m=\u001b[39m (\n\u001b[0;32m--> 592\u001b[0m             \u001b[38;5;28;43mself\u001b[39;49m\u001b[38;5;241;43m.\u001b[39;49m\u001b[43m_generate\u001b[49m\u001b[43m(\u001b[49m\n\u001b[1;32m    593\u001b[0m \u001b[43m                \u001b[49m\u001b[43mprompts\u001b[49m\u001b[43m,\u001b[49m\n\u001b[1;32m    594\u001b[0m \u001b[43m                \u001b[49m\u001b[43mstop\u001b[49m\u001b[38;5;241;43m=\u001b[39;49m\u001b[43mstop\u001b[49m\u001b[43m,\u001b[49m\n\u001b[1;32m    595\u001b[0m \u001b[43m                \u001b[49m\u001b[38;5;66;43;03m# TODO: support multiple run managers\u001b[39;49;00m\n\u001b[1;32m    596\u001b[0m \u001b[43m                \u001b[49m\u001b[43mrun_manager\u001b[49m\u001b[38;5;241;43m=\u001b[39;49m\u001b[43mrun_managers\u001b[49m\u001b[43m[\u001b[49m\u001b[38;5;241;43m0\u001b[39;49m\u001b[43m]\u001b[49m\u001b[43m \u001b[49m\u001b[38;5;28;43;01mif\u001b[39;49;00m\u001b[43m \u001b[49m\u001b[43mrun_managers\u001b[49m\u001b[43m \u001b[49m\u001b[38;5;28;43;01melse\u001b[39;49;00m\u001b[43m \u001b[49m\u001b[38;5;28;43;01mNone\u001b[39;49;00m\u001b[43m,\u001b[49m\n\u001b[1;32m    597\u001b[0m \u001b[43m                \u001b[49m\u001b[38;5;241;43m*\u001b[39;49m\u001b[38;5;241;43m*\u001b[39;49m\u001b[43mkwargs\u001b[49m\u001b[43m,\u001b[49m\n\u001b[1;32m    598\u001b[0m \u001b[43m            \u001b[49m\u001b[43m)\u001b[49m\n\u001b[1;32m    599\u001b[0m             \u001b[38;5;28;01mif\u001b[39;00m new_arg_supported\n\u001b[1;32m    600\u001b[0m             \u001b[38;5;28;01melse\u001b[39;00m \u001b[38;5;28mself\u001b[39m\u001b[38;5;241m.\u001b[39m_generate(prompts, stop\u001b[38;5;241m=\u001b[39mstop)\n\u001b[1;32m    601\u001b[0m         )\n\u001b[1;32m    602\u001b[0m     \u001b[38;5;28;01mexcept\u001b[39;00m \u001b[38;5;167;01mBaseException\u001b[39;00m \u001b[38;5;28;01mas\u001b[39;00m e:\n\u001b[1;32m    603\u001b[0m         \u001b[38;5;28;01mfor\u001b[39;00m run_manager \u001b[38;5;129;01min\u001b[39;00m run_managers:\n",
      "File \u001b[0;32m~/uni/Хакатоны/selectel-dinosaurs/venv/lib/python3.11/site-packages/langchain_community/llms/ollama.py:408\u001b[0m, in \u001b[0;36mOllama._generate\u001b[0;34m(self, prompts, stop, images, run_manager, **kwargs)\u001b[0m\n\u001b[1;32m    406\u001b[0m generations \u001b[38;5;241m=\u001b[39m []\n\u001b[1;32m    407\u001b[0m \u001b[38;5;28;01mfor\u001b[39;00m prompt \u001b[38;5;129;01min\u001b[39;00m prompts:\n\u001b[0;32m--> 408\u001b[0m     final_chunk \u001b[38;5;241m=\u001b[39m \u001b[38;5;28;43msuper\u001b[39;49m\u001b[43m(\u001b[49m\u001b[43m)\u001b[49m\u001b[38;5;241;43m.\u001b[39;49m\u001b[43m_stream_with_aggregation\u001b[49m\u001b[43m(\u001b[49m\n\u001b[1;32m    409\u001b[0m \u001b[43m        \u001b[49m\u001b[43mprompt\u001b[49m\u001b[43m,\u001b[49m\n\u001b[1;32m    410\u001b[0m \u001b[43m        \u001b[49m\u001b[43mstop\u001b[49m\u001b[38;5;241;43m=\u001b[39;49m\u001b[43mstop\u001b[49m\u001b[43m,\u001b[49m\n\u001b[1;32m    411\u001b[0m \u001b[43m        \u001b[49m\u001b[43mimages\u001b[49m\u001b[38;5;241;43m=\u001b[39;49m\u001b[43mimages\u001b[49m\u001b[43m,\u001b[49m\n\u001b[1;32m    412\u001b[0m \u001b[43m        \u001b[49m\u001b[43mrun_manager\u001b[49m\u001b[38;5;241;43m=\u001b[39;49m\u001b[43mrun_manager\u001b[49m\u001b[43m,\u001b[49m\n\u001b[1;32m    413\u001b[0m \u001b[43m        \u001b[49m\u001b[43mverbose\u001b[49m\u001b[38;5;241;43m=\u001b[39;49m\u001b[38;5;28;43mself\u001b[39;49m\u001b[38;5;241;43m.\u001b[39;49m\u001b[43mverbose\u001b[49m\u001b[43m,\u001b[49m\n\u001b[1;32m    414\u001b[0m \u001b[43m        \u001b[49m\u001b[38;5;241;43m*\u001b[39;49m\u001b[38;5;241;43m*\u001b[39;49m\u001b[43mkwargs\u001b[49m\u001b[43m,\u001b[49m\n\u001b[1;32m    415\u001b[0m \u001b[43m    \u001b[49m\u001b[43m)\u001b[49m\n\u001b[1;32m    416\u001b[0m     generations\u001b[38;5;241m.\u001b[39mappend([final_chunk])\n\u001b[1;32m    417\u001b[0m \u001b[38;5;28;01mreturn\u001b[39;00m LLMResult(generations\u001b[38;5;241m=\u001b[39mgenerations)\n",
      "File \u001b[0;32m~/uni/Хакатоны/selectel-dinosaurs/venv/lib/python3.11/site-packages/langchain_community/llms/ollama.py:317\u001b[0m, in \u001b[0;36m_OllamaCommon._stream_with_aggregation\u001b[0;34m(self, prompt, stop, run_manager, verbose, **kwargs)\u001b[0m\n\u001b[1;32m    308\u001b[0m \u001b[38;5;28;01mdef\u001b[39;00m \u001b[38;5;21m_stream_with_aggregation\u001b[39m(\n\u001b[1;32m    309\u001b[0m     \u001b[38;5;28mself\u001b[39m,\n\u001b[1;32m    310\u001b[0m     prompt: \u001b[38;5;28mstr\u001b[39m,\n\u001b[0;32m   (...)\u001b[0m\n\u001b[1;32m    314\u001b[0m     \u001b[38;5;241m*\u001b[39m\u001b[38;5;241m*\u001b[39mkwargs: Any,\n\u001b[1;32m    315\u001b[0m ) \u001b[38;5;241m-\u001b[39m\u001b[38;5;241m>\u001b[39m GenerationChunk:\n\u001b[1;32m    316\u001b[0m     final_chunk: Optional[GenerationChunk] \u001b[38;5;241m=\u001b[39m \u001b[38;5;28;01mNone\u001b[39;00m\n\u001b[0;32m--> 317\u001b[0m \u001b[43m    \u001b[49m\u001b[38;5;28;43;01mfor\u001b[39;49;00m\u001b[43m \u001b[49m\u001b[43mstream_resp\u001b[49m\u001b[43m \u001b[49m\u001b[38;5;129;43;01min\u001b[39;49;00m\u001b[43m \u001b[49m\u001b[38;5;28;43mself\u001b[39;49m\u001b[38;5;241;43m.\u001b[39;49m\u001b[43m_create_generate_stream\u001b[49m\u001b[43m(\u001b[49m\u001b[43mprompt\u001b[49m\u001b[43m,\u001b[49m\u001b[43m \u001b[49m\u001b[43mstop\u001b[49m\u001b[43m,\u001b[49m\u001b[43m \u001b[49m\u001b[38;5;241;43m*\u001b[39;49m\u001b[38;5;241;43m*\u001b[39;49m\u001b[43mkwargs\u001b[49m\u001b[43m)\u001b[49m\u001b[43m:\u001b[49m\n\u001b[1;32m    318\u001b[0m \u001b[43m        \u001b[49m\u001b[38;5;28;43;01mif\u001b[39;49;00m\u001b[43m \u001b[49m\u001b[43mstream_resp\u001b[49m\u001b[43m:\u001b[49m\n\u001b[1;32m    319\u001b[0m \u001b[43m            \u001b[49m\u001b[43mchunk\u001b[49m\u001b[43m \u001b[49m\u001b[38;5;241;43m=\u001b[39;49m\u001b[43m \u001b[49m\u001b[43m_stream_response_to_generation_chunk\u001b[49m\u001b[43m(\u001b[49m\u001b[43mstream_resp\u001b[49m\u001b[43m)\u001b[49m\n",
      "File \u001b[0;32m~/uni/Хакатоны/selectel-dinosaurs/venv/lib/python3.11/site-packages/langchain_community/llms/ollama.py:159\u001b[0m, in \u001b[0;36m_OllamaCommon._create_generate_stream\u001b[0;34m(self, prompt, stop, images, **kwargs)\u001b[0m\n\u001b[1;32m    151\u001b[0m \u001b[38;5;28;01mdef\u001b[39;00m \u001b[38;5;21m_create_generate_stream\u001b[39m(\n\u001b[1;32m    152\u001b[0m     \u001b[38;5;28mself\u001b[39m,\n\u001b[1;32m    153\u001b[0m     prompt: \u001b[38;5;28mstr\u001b[39m,\n\u001b[0;32m   (...)\u001b[0m\n\u001b[1;32m    156\u001b[0m     \u001b[38;5;241m*\u001b[39m\u001b[38;5;241m*\u001b[39mkwargs: Any,\n\u001b[1;32m    157\u001b[0m ) \u001b[38;5;241m-\u001b[39m\u001b[38;5;241m>\u001b[39m Iterator[\u001b[38;5;28mstr\u001b[39m]:\n\u001b[1;32m    158\u001b[0m     payload \u001b[38;5;241m=\u001b[39m {\u001b[38;5;124m\"\u001b[39m\u001b[38;5;124mprompt\u001b[39m\u001b[38;5;124m\"\u001b[39m: prompt, \u001b[38;5;124m\"\u001b[39m\u001b[38;5;124mimages\u001b[39m\u001b[38;5;124m\"\u001b[39m: images}\n\u001b[0;32m--> 159\u001b[0m     \u001b[38;5;28;01myield from\u001b[39;00m \u001b[38;5;28mself\u001b[39m\u001b[38;5;241m.\u001b[39m_create_stream(\n\u001b[1;32m    160\u001b[0m         payload\u001b[38;5;241m=\u001b[39mpayload,\n\u001b[1;32m    161\u001b[0m         stop\u001b[38;5;241m=\u001b[39mstop,\n\u001b[1;32m    162\u001b[0m         api_url\u001b[38;5;241m=\u001b[39m\u001b[38;5;124mf\u001b[39m\u001b[38;5;124m\"\u001b[39m\u001b[38;5;132;01m{\u001b[39;00m\u001b[38;5;28mself\u001b[39m\u001b[38;5;241m.\u001b[39mbase_url\u001b[38;5;132;01m}\u001b[39;00m\u001b[38;5;124m/api/generate\u001b[39m\u001b[38;5;124m\"\u001b[39m,\n\u001b[1;32m    163\u001b[0m         \u001b[38;5;241m*\u001b[39m\u001b[38;5;241m*\u001b[39mkwargs,\n\u001b[1;32m    164\u001b[0m     )\n",
      "File \u001b[0;32m~/uni/Хакатоны/selectel-dinosaurs/venv/lib/python3.11/site-packages/requests/models.py:865\u001b[0m, in \u001b[0;36mResponse.iter_lines\u001b[0;34m(self, chunk_size, decode_unicode, delimiter)\u001b[0m\n\u001b[1;32m    856\u001b[0m \u001b[38;5;250m\u001b[39m\u001b[38;5;124;03m\"\"\"Iterates over the response data, one line at a time.  When\u001b[39;00m\n\u001b[1;32m    857\u001b[0m \u001b[38;5;124;03mstream=True is set on the request, this avoids reading the\u001b[39;00m\n\u001b[1;32m    858\u001b[0m \u001b[38;5;124;03mcontent at once into memory for large responses.\u001b[39;00m\n\u001b[1;32m    859\u001b[0m \n\u001b[1;32m    860\u001b[0m \u001b[38;5;124;03m.. note:: This method is not reentrant safe.\u001b[39;00m\n\u001b[1;32m    861\u001b[0m \u001b[38;5;124;03m\"\"\"\u001b[39;00m\n\u001b[1;32m    863\u001b[0m pending \u001b[38;5;241m=\u001b[39m \u001b[38;5;28;01mNone\u001b[39;00m\n\u001b[0;32m--> 865\u001b[0m \u001b[43m\u001b[49m\u001b[38;5;28;43;01mfor\u001b[39;49;00m\u001b[43m \u001b[49m\u001b[43mchunk\u001b[49m\u001b[43m \u001b[49m\u001b[38;5;129;43;01min\u001b[39;49;00m\u001b[43m \u001b[49m\u001b[38;5;28;43mself\u001b[39;49m\u001b[38;5;241;43m.\u001b[39;49m\u001b[43miter_content\u001b[49m\u001b[43m(\u001b[49m\n\u001b[1;32m    866\u001b[0m \u001b[43m    \u001b[49m\u001b[43mchunk_size\u001b[49m\u001b[38;5;241;43m=\u001b[39;49m\u001b[43mchunk_size\u001b[49m\u001b[43m,\u001b[49m\u001b[43m \u001b[49m\u001b[43mdecode_unicode\u001b[49m\u001b[38;5;241;43m=\u001b[39;49m\u001b[43mdecode_unicode\u001b[49m\n\u001b[1;32m    867\u001b[0m \u001b[43m\u001b[49m\u001b[43m)\u001b[49m\u001b[43m:\u001b[49m\n\u001b[1;32m    869\u001b[0m \u001b[43m    \u001b[49m\u001b[38;5;28;43;01mif\u001b[39;49;00m\u001b[43m \u001b[49m\u001b[43mpending\u001b[49m\u001b[43m \u001b[49m\u001b[38;5;129;43;01mis\u001b[39;49;00m\u001b[43m \u001b[49m\u001b[38;5;129;43;01mnot\u001b[39;49;00m\u001b[43m \u001b[49m\u001b[38;5;28;43;01mNone\u001b[39;49;00m\u001b[43m:\u001b[49m\n\u001b[1;32m    870\u001b[0m \u001b[43m        \u001b[49m\u001b[43mchunk\u001b[49m\u001b[43m \u001b[49m\u001b[38;5;241;43m=\u001b[39;49m\u001b[43m \u001b[49m\u001b[43mpending\u001b[49m\u001b[43m \u001b[49m\u001b[38;5;241;43m+\u001b[39;49m\u001b[43m \u001b[49m\u001b[43mchunk\u001b[49m\n",
      "File \u001b[0;32m~/uni/Хакатоны/selectel-dinosaurs/venv/lib/python3.11/site-packages/requests/utils.py:571\u001b[0m, in \u001b[0;36mstream_decode_response_unicode\u001b[0;34m(iterator, r)\u001b[0m\n\u001b[1;32m    568\u001b[0m     \u001b[38;5;28;01mreturn\u001b[39;00m\n\u001b[1;32m    570\u001b[0m decoder \u001b[38;5;241m=\u001b[39m codecs\u001b[38;5;241m.\u001b[39mgetincrementaldecoder(r\u001b[38;5;241m.\u001b[39mencoding)(errors\u001b[38;5;241m=\u001b[39m\u001b[38;5;124m\"\u001b[39m\u001b[38;5;124mreplace\u001b[39m\u001b[38;5;124m\"\u001b[39m)\n\u001b[0;32m--> 571\u001b[0m \u001b[43m\u001b[49m\u001b[38;5;28;43;01mfor\u001b[39;49;00m\u001b[43m \u001b[49m\u001b[43mchunk\u001b[49m\u001b[43m \u001b[49m\u001b[38;5;129;43;01min\u001b[39;49;00m\u001b[43m \u001b[49m\u001b[43miterator\u001b[49m\u001b[43m:\u001b[49m\n\u001b[1;32m    572\u001b[0m \u001b[43m    \u001b[49m\u001b[43mrv\u001b[49m\u001b[43m \u001b[49m\u001b[38;5;241;43m=\u001b[39;49m\u001b[43m \u001b[49m\u001b[43mdecoder\u001b[49m\u001b[38;5;241;43m.\u001b[39;49m\u001b[43mdecode\u001b[49m\u001b[43m(\u001b[49m\u001b[43mchunk\u001b[49m\u001b[43m)\u001b[49m\n\u001b[1;32m    573\u001b[0m \u001b[43m    \u001b[49m\u001b[38;5;28;43;01mif\u001b[39;49;00m\u001b[43m \u001b[49m\u001b[43mrv\u001b[49m\u001b[43m:\u001b[49m\n",
      "File \u001b[0;32m~/uni/Хакатоны/selectel-dinosaurs/venv/lib/python3.11/site-packages/requests/models.py:816\u001b[0m, in \u001b[0;36mResponse.iter_content.<locals>.generate\u001b[0;34m()\u001b[0m\n\u001b[1;32m    814\u001b[0m \u001b[38;5;28;01mif\u001b[39;00m \u001b[38;5;28mhasattr\u001b[39m(\u001b[38;5;28mself\u001b[39m\u001b[38;5;241m.\u001b[39mraw, \u001b[38;5;124m\"\u001b[39m\u001b[38;5;124mstream\u001b[39m\u001b[38;5;124m\"\u001b[39m):\n\u001b[1;32m    815\u001b[0m     \u001b[38;5;28;01mtry\u001b[39;00m:\n\u001b[0;32m--> 816\u001b[0m         \u001b[38;5;28;01myield from\u001b[39;00m \u001b[38;5;28mself\u001b[39m\u001b[38;5;241m.\u001b[39mraw\u001b[38;5;241m.\u001b[39mstream(chunk_size, decode_content\u001b[38;5;241m=\u001b[39m\u001b[38;5;28;01mTrue\u001b[39;00m)\n\u001b[1;32m    817\u001b[0m     \u001b[38;5;28;01mexcept\u001b[39;00m ProtocolError \u001b[38;5;28;01mas\u001b[39;00m e:\n\u001b[1;32m    818\u001b[0m         \u001b[38;5;28;01mraise\u001b[39;00m ChunkedEncodingError(e)\n",
      "File \u001b[0;32m~/uni/Хакатоны/selectel-dinosaurs/venv/lib/python3.11/site-packages/urllib3/response.py:1040\u001b[0m, in \u001b[0;36mHTTPResponse.stream\u001b[0;34m(self, amt, decode_content)\u001b[0m\n\u001b[1;32m   1024\u001b[0m \u001b[38;5;250m\u001b[39m\u001b[38;5;124;03m\"\"\"\u001b[39;00m\n\u001b[1;32m   1025\u001b[0m \u001b[38;5;124;03mA generator wrapper for the read() method. A call will block until\u001b[39;00m\n\u001b[1;32m   1026\u001b[0m \u001b[38;5;124;03m``amt`` bytes have been read from the connection or until the\u001b[39;00m\n\u001b[0;32m   (...)\u001b[0m\n\u001b[1;32m   1037\u001b[0m \u001b[38;5;124;03m    'content-encoding' header.\u001b[39;00m\n\u001b[1;32m   1038\u001b[0m \u001b[38;5;124;03m\"\"\"\u001b[39;00m\n\u001b[1;32m   1039\u001b[0m \u001b[38;5;28;01mif\u001b[39;00m \u001b[38;5;28mself\u001b[39m\u001b[38;5;241m.\u001b[39mchunked \u001b[38;5;129;01mand\u001b[39;00m \u001b[38;5;28mself\u001b[39m\u001b[38;5;241m.\u001b[39msupports_chunked_reads():\n\u001b[0;32m-> 1040\u001b[0m     \u001b[38;5;28;01myield from\u001b[39;00m \u001b[38;5;28mself\u001b[39m\u001b[38;5;241m.\u001b[39mread_chunked(amt, decode_content\u001b[38;5;241m=\u001b[39mdecode_content)\n\u001b[1;32m   1041\u001b[0m \u001b[38;5;28;01melse\u001b[39;00m:\n\u001b[1;32m   1042\u001b[0m     \u001b[38;5;28;01mwhile\u001b[39;00m \u001b[38;5;129;01mnot\u001b[39;00m is_fp_closed(\u001b[38;5;28mself\u001b[39m\u001b[38;5;241m.\u001b[39m_fp) \u001b[38;5;129;01mor\u001b[39;00m \u001b[38;5;28mlen\u001b[39m(\u001b[38;5;28mself\u001b[39m\u001b[38;5;241m.\u001b[39m_decoded_buffer) \u001b[38;5;241m>\u001b[39m \u001b[38;5;241m0\u001b[39m:\n",
      "File \u001b[0;32m~/uni/Хакатоны/selectel-dinosaurs/venv/lib/python3.11/site-packages/urllib3/response.py:1184\u001b[0m, in \u001b[0;36mHTTPResponse.read_chunked\u001b[0;34m(self, amt, decode_content)\u001b[0m\n\u001b[1;32m   1181\u001b[0m     \u001b[38;5;28;01mreturn\u001b[39;00m \u001b[38;5;28;01mNone\u001b[39;00m\n\u001b[1;32m   1183\u001b[0m \u001b[38;5;28;01mwhile\u001b[39;00m \u001b[38;5;28;01mTrue\u001b[39;00m:\n\u001b[0;32m-> 1184\u001b[0m     \u001b[38;5;28;43mself\u001b[39;49m\u001b[38;5;241;43m.\u001b[39;49m\u001b[43m_update_chunk_length\u001b[49m\u001b[43m(\u001b[49m\u001b[43m)\u001b[49m\n\u001b[1;32m   1185\u001b[0m     \u001b[38;5;28;01mif\u001b[39;00m \u001b[38;5;28mself\u001b[39m\u001b[38;5;241m.\u001b[39mchunk_left \u001b[38;5;241m==\u001b[39m \u001b[38;5;241m0\u001b[39m:\n\u001b[1;32m   1186\u001b[0m         \u001b[38;5;28;01mbreak\u001b[39;00m\n",
      "File \u001b[0;32m~/uni/Хакатоны/selectel-dinosaurs/venv/lib/python3.11/site-packages/urllib3/response.py:1108\u001b[0m, in \u001b[0;36mHTTPResponse._update_chunk_length\u001b[0;34m(self)\u001b[0m\n\u001b[1;32m   1106\u001b[0m \u001b[38;5;28;01mif\u001b[39;00m \u001b[38;5;28mself\u001b[39m\u001b[38;5;241m.\u001b[39mchunk_left \u001b[38;5;129;01mis\u001b[39;00m \u001b[38;5;129;01mnot\u001b[39;00m \u001b[38;5;28;01mNone\u001b[39;00m:\n\u001b[1;32m   1107\u001b[0m     \u001b[38;5;28;01mreturn\u001b[39;00m \u001b[38;5;28;01mNone\u001b[39;00m\n\u001b[0;32m-> 1108\u001b[0m line \u001b[38;5;241m=\u001b[39m \u001b[38;5;28mself\u001b[39m\u001b[38;5;241m.\u001b[39m_fp\u001b[38;5;241m.\u001b[39mfp\u001b[38;5;241m.\u001b[39mreadline()  \u001b[38;5;66;03m# type: ignore[union-attr]\u001b[39;00m\n\u001b[1;32m   1109\u001b[0m line \u001b[38;5;241m=\u001b[39m line\u001b[38;5;241m.\u001b[39msplit(\u001b[38;5;124mb\u001b[39m\u001b[38;5;124m\"\u001b[39m\u001b[38;5;124m;\u001b[39m\u001b[38;5;124m\"\u001b[39m, \u001b[38;5;241m1\u001b[39m)[\u001b[38;5;241m0\u001b[39m]\n\u001b[1;32m   1110\u001b[0m \u001b[38;5;28;01mtry\u001b[39;00m:\n",
      "File \u001b[0;32m/Library/Frameworks/Python.framework/Versions/3.11/lib/python3.11/socket.py:706\u001b[0m, in \u001b[0;36mSocketIO.readinto\u001b[0;34m(self, b)\u001b[0m\n\u001b[1;32m    704\u001b[0m \u001b[38;5;28;01mwhile\u001b[39;00m \u001b[38;5;28;01mTrue\u001b[39;00m:\n\u001b[1;32m    705\u001b[0m     \u001b[38;5;28;01mtry\u001b[39;00m:\n\u001b[0;32m--> 706\u001b[0m         \u001b[38;5;28;01mreturn\u001b[39;00m \u001b[38;5;28;43mself\u001b[39;49m\u001b[38;5;241;43m.\u001b[39;49m\u001b[43m_sock\u001b[49m\u001b[38;5;241;43m.\u001b[39;49m\u001b[43mrecv_into\u001b[49m\u001b[43m(\u001b[49m\u001b[43mb\u001b[49m\u001b[43m)\u001b[49m\n\u001b[1;32m    707\u001b[0m     \u001b[38;5;28;01mexcept\u001b[39;00m timeout:\n\u001b[1;32m    708\u001b[0m         \u001b[38;5;28mself\u001b[39m\u001b[38;5;241m.\u001b[39m_timeout_occurred \u001b[38;5;241m=\u001b[39m \u001b[38;5;28;01mTrue\u001b[39;00m\n",
      "\u001b[0;31mKeyboardInterrupt\u001b[0m: "
     ]
    }
   ],
   "source": [
    "\n",
    "for post in processed[100:200 + 1]:\n",
    "    text = post[\"text\"]\n",
    "    summary = ollama(prompt + text)\n",
    "    with open(f\"posts/{post['id']}.json\", \"w\") as f:\n",
    "        try:\n",
    "\n",
    "                data = {\n",
    "                \"id\": post[\"id\"],\n",
    "                \"link\": post[\"url\"],\n",
    "                \"text\": text,\n",
    "                \"summary\": summary.split(\":\")[1],\n",
    "                \"image\": post[\"image\"],\n",
    "                \"date\": post[\"date\"],\n",
    "            }\n",
    "        except Exception as e:\n",
    "            print(e)\n",
    "            print(summary)\n",
    "            print(post[\"id\"])\n",
    "            print(post[\"text\"])\n",
    "            print(post[\"image\"])\n",
    "            print(post[\"url\"])\n",
    "            print(post[\"date\"])\n",
    "            print(\"----\")\n",
    "            continue\n",
    "        json.dump(data, f, ensure_ascii=False, indent=4)"
   ]
  },
  {
   "cell_type": "code",
   "execution_count": 60,
   "metadata": {},
   "outputs": [
    {
     "data": {
      "text/plain": [
       "'Текст можно суммировать в 30 слов: \"Нужен донор. Важность помощи!\"\\nТип животного в тексте - кошка (кличка Киса).'"
      ]
     },
     "execution_count": 60,
     "metadata": {},
     "output_type": "execute_result"
    }
   ],
   "source": [
    "responses[1]"
   ]
  }
 ],
 "metadata": {
  "kernelspec": {
   "display_name": "selectel",
   "language": "python",
   "name": "python3"
  },
  "language_info": {
   "codemirror_mode": {
    "name": "ipython",
    "version": 3
   },
   "file_extension": ".py",
   "mimetype": "text/x-python",
   "name": "python",
   "nbconvert_exporter": "python",
   "pygments_lexer": "ipython3",
   "version": "3.11.8"
  }
 },
 "nbformat": 4,
 "nbformat_minor": 2
}
